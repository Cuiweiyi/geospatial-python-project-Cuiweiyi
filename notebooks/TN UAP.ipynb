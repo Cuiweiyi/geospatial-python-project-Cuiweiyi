{
 "cells": [
  {
   "cell_type": "code",
   "execution_count": 1,
   "id": "6e4cc92c",
   "metadata": {},
   "outputs": [],
   "source": [
    "from shapely.geometry import Point\n",
    "import pandas as pd\n",
    "import geopandas as gpd\n",
    "import matplotlib.pyplot as plt\n",
    "import folium\n",
    "from folium.plugins import MarkerCluster\n",
    "from folium.plugins import FastMarkerCluster"
   ]
  },
  {
   "cell_type": "markdown",
   "id": "afbfaab9",
   "metadata": {},
   "source": [
    "I am abandoning the firestations. They have crashed and burned and the only way to put them out is to move on"
   ]
  },
  {
   "cell_type": "code",
   "execution_count": 2,
   "id": "6c87518c",
   "metadata": {},
   "outputs": [
    {
     "data": {
      "text/html": [
       "<div>\n",
       "<style scoped>\n",
       "    .dataframe tbody tr th:only-of-type {\n",
       "        vertical-align: middle;\n",
       "    }\n",
       "\n",
       "    .dataframe tbody tr th {\n",
       "        vertical-align: top;\n",
       "    }\n",
       "\n",
       "    .dataframe thead th {\n",
       "        text-align: right;\n",
       "    }\n",
       "</style>\n",
       "<table border=\"1\" class=\"dataframe\">\n",
       "  <thead>\n",
       "    <tr style=\"text-align: right;\">\n",
       "      <th></th>\n",
       "      <th>the_geom</th>\n",
       "      <th>Type</th>\n",
       "      <th>OBJECTID</th>\n",
       "      <th>Domain</th>\n",
       "      <th>Status</th>\n",
       "      <th>IDNumber</th>\n",
       "      <th>Quantity</th>\n",
       "      <th>Location</th>\n",
       "      <th>Capacity</th>\n",
       "      <th>LON</th>\n",
       "      <th>LAT</th>\n",
       "      <th>Detail_Loc</th>\n",
       "      <th>Data_Colle</th>\n",
       "    </tr>\n",
       "  </thead>\n",
       "  <tbody>\n",
       "    <tr>\n",
       "      <th>0</th>\n",
       "      <td>POINT (-86.65545277788499 36.049927777764)</td>\n",
       "      <td>Rack</td>\n",
       "      <td>1</td>\n",
       "      <td>Public</td>\n",
       "      <td>Existing</td>\n",
       "      <td>113</td>\n",
       "      <td>1</td>\n",
       "      <td>Mall</td>\n",
       "      <td>12</td>\n",
       "      <td>-86.655453</td>\n",
       "      <td>36.049928</td>\n",
       "      <td>Hickory Hollow Mall</td>\n",
       "      <td>Health Dept</td>\n",
       "    </tr>\n",
       "  </tbody>\n",
       "</table>\n",
       "</div>"
      ],
      "text/plain": [
       "                                     the_geom  Type  OBJECTID  Domain  \\\n",
       "0  POINT (-86.65545277788499 36.049927777764)  Rack         1  Public   \n",
       "\n",
       "     Status  IDNumber  Quantity Location  Capacity        LON        LAT  \\\n",
       "0  Existing       113         1     Mall        12 -86.655453  36.049928   \n",
       "\n",
       "            Detail_Loc   Data_Colle  \n",
       "0  Hickory Hollow Mall  Health Dept  "
      ]
     },
     "execution_count": 2,
     "metadata": {},
     "output_type": "execute_result"
    }
   ],
   "source": [
    "bikes= pd.read_csv('../data/BikeRacks.csv')\n",
    "bikes.head(1)"
   ]
  },
  {
   "cell_type": "code",
   "execution_count": 3,
   "id": "0d557741",
   "metadata": {},
   "outputs": [
    {
     "data": {
      "text/html": [
       "<div>\n",
       "<style scoped>\n",
       "    .dataframe tbody tr th:only-of-type {\n",
       "        vertical-align: middle;\n",
       "    }\n",
       "\n",
       "    .dataframe tbody tr th {\n",
       "        vertical-align: top;\n",
       "    }\n",
       "\n",
       "    .dataframe thead th {\n",
       "        text-align: right;\n",
       "    }\n",
       "</style>\n",
       "<table border=\"1\" class=\"dataframe\">\n",
       "  <thead>\n",
       "    <tr style=\"text-align: right;\">\n",
       "      <th></th>\n",
       "      <th>the_geom</th>\n",
       "      <th>Type</th>\n",
       "      <th>OBJECTID</th>\n",
       "      <th>Domain</th>\n",
       "      <th>Status</th>\n",
       "      <th>IDNumber</th>\n",
       "      <th>Quantity</th>\n",
       "      <th>Location</th>\n",
       "      <th>Capacity</th>\n",
       "      <th>LON</th>\n",
       "      <th>LAT</th>\n",
       "      <th>Detail_Loc</th>\n",
       "      <th>Data_Colle</th>\n",
       "      <th>geometry</th>\n",
       "    </tr>\n",
       "  </thead>\n",
       "  <tbody>\n",
       "    <tr>\n",
       "      <th>0</th>\n",
       "      <td>POINT (-86.65545277788499 36.049927777764)</td>\n",
       "      <td>Rack</td>\n",
       "      <td>1</td>\n",
       "      <td>Public</td>\n",
       "      <td>Existing</td>\n",
       "      <td>113</td>\n",
       "      <td>1</td>\n",
       "      <td>Mall</td>\n",
       "      <td>12</td>\n",
       "      <td>-86.655453</td>\n",
       "      <td>36.049928</td>\n",
       "      <td>Hickory Hollow Mall</td>\n",
       "      <td>Health Dept</td>\n",
       "      <td>POINT (-86.6554527779 36.0499277778)</td>\n",
       "    </tr>\n",
       "    <tr>\n",
       "      <th>1</th>\n",
       "      <td>POINT (-86.63406252260494 36.185280037810095)</td>\n",
       "      <td>Rack</td>\n",
       "      <td>2</td>\n",
       "      <td>Public</td>\n",
       "      <td>Existing</td>\n",
       "      <td>114</td>\n",
       "      <td>2</td>\n",
       "      <td>Greenway</td>\n",
       "      <td>4</td>\n",
       "      <td>-86.634063</td>\n",
       "      <td>36.185280</td>\n",
       "      <td>Stones River Greenway - Donelson/Hermitage Area</td>\n",
       "      <td>Health Dept</td>\n",
       "      <td>POINT (-86.6340625226 36.1852800378)</td>\n",
       "    </tr>\n",
       "    <tr>\n",
       "      <th>2</th>\n",
       "      <td>POINT (-86.62067056966654 36.1584215986261)</td>\n",
       "      <td>Rack</td>\n",
       "      <td>3</td>\n",
       "      <td>Public</td>\n",
       "      <td>Proposed</td>\n",
       "      <td>256</td>\n",
       "      <td>0</td>\n",
       "      <td>Park/Greenway</td>\n",
       "      <td>0</td>\n",
       "      <td>-86.620671</td>\n",
       "      <td>36.158422</td>\n",
       "      <td>Percy Priest Reservoir, Stones River Greenway</td>\n",
       "      <td>Health Dept</td>\n",
       "      <td>POINT (-86.6206705697 36.1584215986)</td>\n",
       "    </tr>\n",
       "  </tbody>\n",
       "</table>\n",
       "</div>"
      ],
      "text/plain": [
       "                                        the_geom  Type  OBJECTID  Domain  \\\n",
       "0     POINT (-86.65545277788499 36.049927777764)  Rack         1  Public   \n",
       "1  POINT (-86.63406252260494 36.185280037810095)  Rack         2  Public   \n",
       "2    POINT (-86.62067056966654 36.1584215986261)  Rack         3  Public   \n",
       "\n",
       "     Status  IDNumber  Quantity       Location  Capacity        LON  \\\n",
       "0  Existing       113         1           Mall        12 -86.655453   \n",
       "1  Existing       114         2       Greenway         4 -86.634063   \n",
       "2  Proposed       256         0  Park/Greenway         0 -86.620671   \n",
       "\n",
       "         LAT                                       Detail_Loc   Data_Colle  \\\n",
       "0  36.049928                              Hickory Hollow Mall  Health Dept   \n",
       "1  36.185280  Stones River Greenway - Donelson/Hermitage Area  Health Dept   \n",
       "2  36.158422    Percy Priest Reservoir, Stones River Greenway  Health Dept   \n",
       "\n",
       "                               geometry  \n",
       "0  POINT (-86.6554527779 36.0499277778)  \n",
       "1  POINT (-86.6340625226 36.1852800378)  \n",
       "2  POINT (-86.6206705697 36.1584215986)  "
      ]
     },
     "execution_count": 3,
     "metadata": {},
     "output_type": "execute_result"
    }
   ],
   "source": [
    "bikes['geometry'] = bikes.apply(lambda x: Point((x.LON, \n",
    "                                                         x.LAT)), \n",
    "                                        axis=1)\n",
    "bikes.head(3)"
   ]
  },
  {
   "cell_type": "code",
   "execution_count": 4,
   "id": "4c62fe0c",
   "metadata": {},
   "outputs": [],
   "source": [
    "uap = pd.read_excel('https://query.data.world/s/brwcqeyvq5izsf6zsdy4xnheu7wo4t')"
   ]
  },
  {
   "cell_type": "code",
   "execution_count": 5,
   "id": "4294b53f",
   "metadata": {},
   "outputs": [
    {
     "name": "stdout",
     "output_type": "stream",
     "text": [
      "              Date / Time Country        City State     Shape  \\\n",
      "0          12/21/16 19:15     USA  Waynesboro    VA    Sphere   \n",
      "1          12/21/16 00:00     USA  Louisville    KY   Unknown   \n",
      "2          12/20/16 22:30     USA  Santa Rosa    CA    Sphere   \n",
      "3          12/20/16 19:00     USA      Fresno    CA    Circle   \n",
      "4          12/19/16 21:53     USA     Reymert    AZ    Circle   \n",
      "...                   ...     ...         ...   ...       ...   \n",
      "5172  2016-01-01 00:00:00     USA   Elk Grove    CA     Light   \n",
      "5173  2016-01-01 00:00:00     USA   Anchorage    AK    Circle   \n",
      "5174  2016-01-01 00:00:00     USA   Sodaville    OR    Sphere   \n",
      "5175  2016-01-01 00:00:00     USA      Arnold    MO  Triangle   \n",
      "5176  2016-01-01 00:00:00     USA      Vernon    CT    Sphere   \n",
      "\n",
      "                                                Summary        lat         lng  \n",
      "0                  Bright round object hovering in sky.  38.065229  -78.905888  \n",
      "1     Multiple craft ascending from north of Shelbyv...  38.254238  -85.759407  \n",
      "2     Bright orange planet-like object sighted near ...  38.440467 -122.714431  \n",
      "3         Twelve orange globes in formation over Fresno  36.729529 -119.708861  \n",
      "4     While camping in the Cottonwood canyon Rd., al...  33.229779 -111.209290  \n",
      "...                                                 ...        ...         ...  \n",
      "5172  6-7 peach-colored craft moving easterly direct...  38.408799 -121.371618  \n",
      "5173                          New Years yellow objects.  61.216313 -149.894852  \n",
      "5174  Two balls of orange light seen above the trees...  44.483395 -122.869982  \n",
      "5175  Triangle obj. moving W to SE from my position....  38.432832  -90.377619  \n",
      "5176                             Red sphere in the sky.  36.092946  -80.149628  \n",
      "\n",
      "[5177 rows x 8 columns]\n"
     ]
    }
   ],
   "source": [
    "print(uap)"
   ]
  },
  {
   "cell_type": "code",
   "execution_count": 6,
   "id": "9995aac2",
   "metadata": {},
   "outputs": [],
   "source": [
    "uap = uap[['City', 'State', 'Shape', 'lat', 'lng']]\n",
    "AP_TN = uap.loc[uap['State'] == 'TN']"
   ]
  },
  {
   "cell_type": "code",
   "execution_count": 7,
   "id": "75e2f221",
   "metadata": {},
   "outputs": [
    {
     "name": "stdout",
     "output_type": "stream",
     "text": [
      "<class 'pandas.core.frame.DataFrame'>\n",
      "RangeIndex: 5177 entries, 0 to 5176\n",
      "Data columns (total 5 columns):\n",
      " #   Column  Non-Null Count  Dtype  \n",
      "---  ------  --------------  -----  \n",
      " 0   City    5177 non-null   object \n",
      " 1   State   5177 non-null   object \n",
      " 2   Shape   5177 non-null   object \n",
      " 3   lat     5177 non-null   float64\n",
      " 4   lng     5177 non-null   float64\n",
      "dtypes: float64(2), object(3)\n",
      "memory usage: 202.4+ KB\n"
     ]
    }
   ],
   "source": [
    "uap.info()"
   ]
  },
  {
   "cell_type": "code",
   "execution_count": 8,
   "id": "5a651362",
   "metadata": {},
   "outputs": [
    {
     "data": {
      "text/plain": [
       "Knoxville       11\n",
       "Nashville       10\n",
       "Murfreesboro     6\n",
       "Memphis          4\n",
       "Bristol          3\n",
       "                ..\n",
       "Hermitage        1\n",
       "Harrogate        1\n",
       "Clinton          1\n",
       "Pigeon Forge     1\n",
       "Seymour          1\n",
       "Name: City, Length: 63, dtype: int64"
      ]
     },
     "execution_count": 8,
     "metadata": {},
     "output_type": "execute_result"
    }
   ],
   "source": [
    "AP_TN['City'].value_counts()"
   ]
  },
  {
   "cell_type": "code",
   "execution_count": 9,
   "id": "9838af1c",
   "metadata": {},
   "outputs": [],
   "source": [
    "AP_Nash = AP_TN.loc[AP_TN['City']== 'Nashville']"
   ]
  },
  {
   "cell_type": "code",
   "execution_count": 10,
   "id": "cbf14acc",
   "metadata": {},
   "outputs": [
    {
     "name": "stderr",
     "output_type": "stream",
     "text": [
      "C:\\Users\\pcunn\\AppData\\Local\\Temp\\ipykernel_22592\\47260766.py:1: SettingWithCopyWarning: \n",
      "A value is trying to be set on a copy of a slice from a DataFrame.\n",
      "Try using .loc[row_indexer,col_indexer] = value instead\n",
      "\n",
      "See the caveats in the documentation: https://pandas.pydata.org/pandas-docs/stable/user_guide/indexing.html#returning-a-view-versus-a-copy\n",
      "  AP_Nash['geometry'] = AP_TN.apply(lambda x: Point((x.lng,\n"
     ]
    }
   ],
   "source": [
    "AP_Nash['geometry'] = AP_TN.apply(lambda x: Point((x.lng, \n",
    "                                                         x.lat)), \n",
    "                                        axis=1)\n",
    "AP_Nash.head(3);"
   ]
  },
  {
   "cell_type": "code",
   "execution_count": 11,
   "id": "645a0ae5",
   "metadata": {},
   "outputs": [
    {
     "data": {
      "text/plain": [
       "Light        1118\n",
       "Circle        678\n",
       "Triangle      498\n",
       "Unknown       431\n",
       "Fireball      430\n",
       "Other         333\n",
       "Sphere        313\n",
       "Disk          210\n",
       "Formation     199\n",
       "Oval          191\n",
       "Flash         128\n",
       "Changing      120\n",
       "Rectangle     102\n",
       "Cigar          97\n",
       "Cylinder       72\n",
       "Chevron        68\n",
       "Diamond        64\n",
       "Teardrop       50\n",
       "Egg            31\n",
       "Cross          23\n",
       "Cone           21\n",
       "Name: Shape, dtype: int64"
      ]
     },
     "execution_count": 11,
     "metadata": {},
     "output_type": "execute_result"
    }
   ],
   "source": [
    "uap['Shape'].value_counts()"
   ]
  },
  {
   "cell_type": "code",
   "execution_count": 12,
   "id": "8578a8fe",
   "metadata": {},
   "outputs": [],
   "source": [
    "Tenn = gpd.read_file('../data/county/tncounty.shp')"
   ]
  },
  {
   "cell_type": "code",
   "execution_count": 13,
   "id": "a2edd1c5",
   "metadata": {},
   "outputs": [
    {
     "data": {
      "text/html": [
       "<div>\n",
       "<style scoped>\n",
       "    .dataframe tbody tr th:only-of-type {\n",
       "        vertical-align: middle;\n",
       "    }\n",
       "\n",
       "    .dataframe tbody tr th {\n",
       "        vertical-align: top;\n",
       "    }\n",
       "\n",
       "    .dataframe thead th {\n",
       "        text-align: right;\n",
       "    }\n",
       "</style>\n",
       "<table border=\"1\" class=\"dataframe\">\n",
       "  <thead>\n",
       "    <tr style=\"text-align: right;\">\n",
       "      <th></th>\n",
       "      <th>City</th>\n",
       "      <th>State</th>\n",
       "      <th>Shape</th>\n",
       "      <th>lat</th>\n",
       "      <th>lng</th>\n",
       "    </tr>\n",
       "  </thead>\n",
       "  <tbody>\n",
       "    <tr>\n",
       "      <th>0</th>\n",
       "      <td>Waynesboro</td>\n",
       "      <td>VA</td>\n",
       "      <td>Sphere</td>\n",
       "      <td>38.065229</td>\n",
       "      <td>-78.905888</td>\n",
       "    </tr>\n",
       "    <tr>\n",
       "      <th>1</th>\n",
       "      <td>Louisville</td>\n",
       "      <td>KY</td>\n",
       "      <td>Unknown</td>\n",
       "      <td>38.254238</td>\n",
       "      <td>-85.759407</td>\n",
       "    </tr>\n",
       "    <tr>\n",
       "      <th>2</th>\n",
       "      <td>Santa Rosa</td>\n",
       "      <td>CA</td>\n",
       "      <td>Sphere</td>\n",
       "      <td>38.440467</td>\n",
       "      <td>-122.714431</td>\n",
       "    </tr>\n",
       "    <tr>\n",
       "      <th>3</th>\n",
       "      <td>Fresno</td>\n",
       "      <td>CA</td>\n",
       "      <td>Circle</td>\n",
       "      <td>36.729529</td>\n",
       "      <td>-119.708861</td>\n",
       "    </tr>\n",
       "    <tr>\n",
       "      <th>4</th>\n",
       "      <td>Reymert</td>\n",
       "      <td>AZ</td>\n",
       "      <td>Circle</td>\n",
       "      <td>33.229779</td>\n",
       "      <td>-111.209290</td>\n",
       "    </tr>\n",
       "    <tr>\n",
       "      <th>...</th>\n",
       "      <td>...</td>\n",
       "      <td>...</td>\n",
       "      <td>...</td>\n",
       "      <td>...</td>\n",
       "      <td>...</td>\n",
       "    </tr>\n",
       "    <tr>\n",
       "      <th>5172</th>\n",
       "      <td>Elk Grove</td>\n",
       "      <td>CA</td>\n",
       "      <td>Light</td>\n",
       "      <td>38.408799</td>\n",
       "      <td>-121.371618</td>\n",
       "    </tr>\n",
       "    <tr>\n",
       "      <th>5173</th>\n",
       "      <td>Anchorage</td>\n",
       "      <td>AK</td>\n",
       "      <td>Circle</td>\n",
       "      <td>61.216313</td>\n",
       "      <td>-149.894852</td>\n",
       "    </tr>\n",
       "    <tr>\n",
       "      <th>5174</th>\n",
       "      <td>Sodaville</td>\n",
       "      <td>OR</td>\n",
       "      <td>Sphere</td>\n",
       "      <td>44.483395</td>\n",
       "      <td>-122.869982</td>\n",
       "    </tr>\n",
       "    <tr>\n",
       "      <th>5175</th>\n",
       "      <td>Arnold</td>\n",
       "      <td>MO</td>\n",
       "      <td>Triangle</td>\n",
       "      <td>38.432832</td>\n",
       "      <td>-90.377619</td>\n",
       "    </tr>\n",
       "    <tr>\n",
       "      <th>5176</th>\n",
       "      <td>Vernon</td>\n",
       "      <td>CT</td>\n",
       "      <td>Sphere</td>\n",
       "      <td>36.092946</td>\n",
       "      <td>-80.149628</td>\n",
       "    </tr>\n",
       "  </tbody>\n",
       "</table>\n",
       "<p>5177 rows × 5 columns</p>\n",
       "</div>"
      ],
      "text/plain": [
       "            City State     Shape        lat         lng\n",
       "0     Waynesboro    VA    Sphere  38.065229  -78.905888\n",
       "1     Louisville    KY   Unknown  38.254238  -85.759407\n",
       "2     Santa Rosa    CA    Sphere  38.440467 -122.714431\n",
       "3         Fresno    CA    Circle  36.729529 -119.708861\n",
       "4        Reymert    AZ    Circle  33.229779 -111.209290\n",
       "...          ...   ...       ...        ...         ...\n",
       "5172   Elk Grove    CA     Light  38.408799 -121.371618\n",
       "5173   Anchorage    AK    Circle  61.216313 -149.894852\n",
       "5174   Sodaville    OR    Sphere  44.483395 -122.869982\n",
       "5175      Arnold    MO  Triangle  38.432832  -90.377619\n",
       "5176      Vernon    CT    Sphere  36.092946  -80.149628\n",
       "\n",
       "[5177 rows x 5 columns]"
      ]
     },
     "execution_count": 13,
     "metadata": {},
     "output_type": "execute_result"
    }
   ],
   "source": [
    "uap\n"
   ]
  },
  {
   "cell_type": "code",
   "execution_count": 14,
   "id": "7c2e855d",
   "metadata": {},
   "outputs": [
    {
     "data": {
      "text/html": [
       "<div>\n",
       "<style scoped>\n",
       "    .dataframe tbody tr th:only-of-type {\n",
       "        vertical-align: middle;\n",
       "    }\n",
       "\n",
       "    .dataframe tbody tr th {\n",
       "        vertical-align: top;\n",
       "    }\n",
       "\n",
       "    .dataframe thead th {\n",
       "        text-align: right;\n",
       "    }\n",
       "</style>\n",
       "<table border=\"1\" class=\"dataframe\">\n",
       "  <thead>\n",
       "    <tr style=\"text-align: right;\">\n",
       "      <th></th>\n",
       "      <th>OBJECTID</th>\n",
       "      <th>NAME</th>\n",
       "      <th>KEY</th>\n",
       "      <th>SHAPE_AREA</th>\n",
       "      <th>SHAPE_LEN</th>\n",
       "      <th>geometry</th>\n",
       "      <th>City</th>\n",
       "      <th>State</th>\n",
       "      <th>Shape</th>\n",
       "      <th>lat</th>\n",
       "      <th>lng</th>\n",
       "    </tr>\n",
       "  </thead>\n",
       "  <tbody>\n",
       "    <tr>\n",
       "      <th>0</th>\n",
       "      <td>76.0</td>\n",
       "      <td>Chester</td>\n",
       "      <td>47023</td>\n",
       "      <td>8.049024e+09</td>\n",
       "      <td>520461.080124</td>\n",
       "      <td>POLYGON ((1137985.762 344601.643, 1137965.070 ...</td>\n",
       "      <td>NaN</td>\n",
       "      <td>NaN</td>\n",
       "      <td>NaN</td>\n",
       "      <td>NaN</td>\n",
       "      <td>NaN</td>\n",
       "    </tr>\n",
       "    <tr>\n",
       "      <th>1</th>\n",
       "      <td>77.0</td>\n",
       "      <td>Wayne</td>\n",
       "      <td>47181</td>\n",
       "      <td>2.050741e+10</td>\n",
       "      <td>666520.678598</td>\n",
       "      <td>POLYGON ((1365052.057 391716.806, 1365746.554 ...</td>\n",
       "      <td>NaN</td>\n",
       "      <td>NaN</td>\n",
       "      <td>NaN</td>\n",
       "      <td>NaN</td>\n",
       "      <td>NaN</td>\n",
       "    </tr>\n",
       "    <tr>\n",
       "      <th>2</th>\n",
       "      <td>78.0</td>\n",
       "      <td>Tipton</td>\n",
       "      <td>47167</td>\n",
       "      <td>1.319125e+10</td>\n",
       "      <td>865093.887634</td>\n",
       "      <td>MULTIPOLYGON (((886814.330 400456.525, 886774....</td>\n",
       "      <td>NaN</td>\n",
       "      <td>NaN</td>\n",
       "      <td>NaN</td>\n",
       "      <td>NaN</td>\n",
       "      <td>NaN</td>\n",
       "    </tr>\n",
       "    <tr>\n",
       "      <th>3</th>\n",
       "      <td>79.0</td>\n",
       "      <td>Hamilton</td>\n",
       "      <td>47065</td>\n",
       "      <td>1.604776e+10</td>\n",
       "      <td>652926.001078</td>\n",
       "      <td>POLYGON ((2274954.438 239788.911, 2274090.610 ...</td>\n",
       "      <td>NaN</td>\n",
       "      <td>NaN</td>\n",
       "      <td>NaN</td>\n",
       "      <td>NaN</td>\n",
       "      <td>NaN</td>\n",
       "    </tr>\n",
       "    <tr>\n",
       "      <th>4</th>\n",
       "      <td>80.0</td>\n",
       "      <td>Stewart</td>\n",
       "      <td>47161</td>\n",
       "      <td>1.375003e+10</td>\n",
       "      <td>490090.336180</td>\n",
       "      <td>POLYGON ((1382472.783 743972.302, 1382445.171 ...</td>\n",
       "      <td>NaN</td>\n",
       "      <td>NaN</td>\n",
       "      <td>NaN</td>\n",
       "      <td>NaN</td>\n",
       "      <td>NaN</td>\n",
       "    </tr>\n",
       "  </tbody>\n",
       "</table>\n",
       "</div>"
      ],
      "text/plain": [
       "   OBJECTID      NAME    KEY    SHAPE_AREA      SHAPE_LEN  \\\n",
       "0      76.0   Chester  47023  8.049024e+09  520461.080124   \n",
       "1      77.0     Wayne  47181  2.050741e+10  666520.678598   \n",
       "2      78.0    Tipton  47167  1.319125e+10  865093.887634   \n",
       "3      79.0  Hamilton  47065  1.604776e+10  652926.001078   \n",
       "4      80.0   Stewart  47161  1.375003e+10  490090.336180   \n",
       "\n",
       "                                            geometry City State Shape  lat  \\\n",
       "0  POLYGON ((1137985.762 344601.643, 1137965.070 ...  NaN   NaN   NaN  NaN   \n",
       "1  POLYGON ((1365052.057 391716.806, 1365746.554 ...  NaN   NaN   NaN  NaN   \n",
       "2  MULTIPOLYGON (((886814.330 400456.525, 886774....  NaN   NaN   NaN  NaN   \n",
       "3  POLYGON ((2274954.438 239788.911, 2274090.610 ...  NaN   NaN   NaN  NaN   \n",
       "4  POLYGON ((1382472.783 743972.302, 1382445.171 ...  NaN   NaN   NaN  NaN   \n",
       "\n",
       "   lng  \n",
       "0  NaN  \n",
       "1  NaN  \n",
       "2  NaN  \n",
       "3  NaN  \n",
       "4  NaN  "
      ]
     },
     "execution_count": 14,
     "metadata": {},
     "output_type": "execute_result"
    }
   ],
   "source": [
    "quit_naming_stuff = pd.concat([Tenn, uap])\n",
    "quit_naming_stuff.head()"
   ]
  },
  {
   "cell_type": "code",
   "execution_count": 15,
   "id": "0fe5e92f",
   "metadata": {},
   "outputs": [
    {
     "data": {
      "text/plain": [
       "<AxesSubplot:>"
      ]
     },
     "execution_count": 15,
     "metadata": {},
     "output_type": "execute_result"
    },
    {
     "data": {
      "image/png": "[encoded data removed]",
      "text/plain": [
       "<Figure size 432x288 with 1 Axes>"
      ]
     },
     "metadata": {
      "needs_background": "light"
     },
     "output_type": "display_data"
    }
   ],
   "source": [
    "Tenn.plot()"
   ]
  },
  {
   "cell_type": "code",
   "execution_count": 16,
   "id": "6dccd4c7",
   "metadata": {},
   "outputs": [
    {
     "data": {
      "image/png": "[encoded data removed]",
      "text/plain": [
       "<Figure size 1152x288 with 1 Axes>"
      ]
     },
     "metadata": {
      "needs_background": "light"
     },
     "output_type": "display_data"
    }
   ],
   "source": [
    "fig, ax = plt.subplots(figsize=(16,4))\n",
    "Tenn.plot(ax = ax);"
   ]
  },
  {
   "cell_type": "code",
   "execution_count": 17,
   "id": "0477e61c",
   "metadata": {},
   "outputs": [
    {
     "data": {
      "text/plain": [
       "<Projected CRS: EPSG:2274>\n",
       "Name: NAD83 / Tennessee (ftUS)\n",
       "Axis Info [cartesian]:\n",
       "- X[east]: Easting (US survey foot)\n",
       "- Y[north]: Northing (US survey foot)\n",
       "Area of Use:\n",
       "- name: USA - Tennessee\n",
       "- bounds: (-90.31, 34.98, -81.65, 36.68)\n",
       "Coordinate Operation:\n",
       "- name: SPCS83 Tennessee zone (US Survey feet)\n",
       "- method: Lambert Conic Conformal (2SP)\n",
       "Datum: North American Datum 1983\n",
       "- Ellipsoid: GRS 1980\n",
       "- Prime Meridian: Greenwich"
      ]
     },
     "execution_count": 17,
     "metadata": {},
     "output_type": "execute_result"
    }
   ],
   "source": [
    "Tenn.crs"
   ]
  },
  {
   "cell_type": "code",
   "execution_count": 18,
   "id": "dbc0493f",
   "metadata": {},
   "outputs": [
    {
     "data": {
      "text/plain": [
       "Knoxville       11\n",
       "Nashville       10\n",
       "Murfreesboro     6\n",
       "Memphis          4\n",
       "Bristol          3\n",
       "                ..\n",
       "Hermitage        1\n",
       "Harrogate        1\n",
       "Clinton          1\n",
       "Pigeon Forge     1\n",
       "Seymour          1\n",
       "Name: City, Length: 63, dtype: int64"
      ]
     },
     "execution_count": 18,
     "metadata": {},
     "output_type": "execute_result"
    }
   ],
   "source": [
    "AP_TN['City'].value_counts()"
   ]
  },
  {
   "cell_type": "markdown",
   "id": "7bdf7784",
   "metadata": {},
   "source": [
    "#### NONE OF THIS WORKED. TRYING AGAIN FURTHER DOWN"
   ]
  },
  {
   "cell_type": "code",
   "execution_count": 19,
   "id": "5019e137",
   "metadata": {},
   "outputs": [],
   "source": [
    "#AP_TN['County'] = AP_TN.apply(lambda row: \n",
    "#     'Anderson' if row['City'] == \"Andersonville\"|\"Clinton\"|\"Oak Ridge\"\n",
    "#                              elif row['City'] == \"Rover\"|\"Shelbyville\":\n",
    "#         return 'Bedford'\n",
    "#     elif row['City'] =='Maryville':\n",
    "#         return 'Blount'\n",
    "#     elif row['City'] =='Charleston'|'Cleveland':\n",
    "#         return 'Bradley'\n",
    "#     elif row['City'] =='Ivy Bluff':\n",
    "#         return 'Cannon'\n",
    "#     elif row['City'] =='Huntingdon'|'Trezevant':\n",
    "#         return 'Carroll'\n",
    "#     elif row['City'] =='Elizabethton':\n",
    "#         return 'Carter'\n",
    "#     elif row['City'] =='Hendersonville':\n",
    "#         return 'Chester'\n",
    "#     elif row['City'] =='Harrogate':\n",
    "#         return 'Claiborne'\n",
    "#     elif row['City'] =='Bybee':\n",
    "#         return 'Cocke'\n",
    "#     elif row['City'] =='Lake Tansi':\n",
    "#           return 'Cumberland'\n",
    "#     elif row['City'] =='Antioch'|'Bellevue'|'Goodlettsville'|'Hermitage'|'Nashville':\n",
    "#         return 'Davidson'\n",
    "#     elif row['City'] =='Dyersburg'|'Newbern':\n",
    "#         return 'Dyer'\n",
    "#     elif row['City'] =='Bean Station'|'Blaine':\n",
    "#         return 'Grainger'\n",
    "#     elif row['City'] =='Lupton City'|'Hixson':\n",
    "#         return 'Hamilton'\n",
    "#     elif row['City'] =='Rogersville':\n",
    "#         return 'Hawkins'\n",
    "#     elif row['City'] =='Waverly':\n",
    "#         return 'Humphreys'\n",
    "#     elif row['City'] =='Farragut'|'Knoxville':\n",
    "#         return 'Knox'\n",
    "#     elif row['City'] =='Powell':\n",
    "#         return 'Marion'\n",
    "#     elif row['City'] =='Columbia'|'Spring hill':\n",
    "#         return 'Maury'\n",
    "#     elif row['City'] =='Ten Mile':\n",
    "#         return 'Meigs'\n",
    "#     elif row['City'] =='Clarksville':\n",
    "#         return 'Montgomery'\n",
    "#     elif row['City'] =='Lancing':\n",
    "#         return 'Morgan'\n",
    "#     elif row['City'] =='Byrdstown':\n",
    "#         return 'Pickett'\n",
    "#     elif row['City'] =='Dayton'|'Gray':\n",
    "#         return 'Rhea'\n",
    "#     elif row['City'] =='White House':\n",
    "#         return 'Robertson'\n",
    "#     elif row['City'] =='Murfreesboro'|'Smyrna':\n",
    "#         return 'Rutherford'\n",
    "#     elif row['City'] =='Mt. Juliet'|'Lebanon':\n",
    "#         return 'Wilson'\n",
    "#     elif row['City'] =='Franklin':\n",
    "#         return 'Williamson'\n",
    "#     elif row['City'] =='Jonesborough':\n",
    "#         return 'Washington'\n",
    "#     elif row['City'] =='Morristown':\n",
    "#         return 'Warren'\n",
    "#     elif row['City'] =='Gallatin'|'Portland':\n",
    "#         return 'Sumner'\n",
    "#     elif row['City'] =='Kingsport'|'Johnson City'|'Bristol'|'Blountville':\n",
    "#         return 'Sullivan'\n",
    "#     elif row['City'] =='Gordonsville':\n",
    "#         return 'Smith'\n",
    "#     elif row['City'] =='Eads'|'Memphis'| 'Millington':\n",
    "#         return 'Shelby'\n",
    "#     else:\n",
    "#         return 'Sevier')"
   ]
  },
  {
   "cell_type": "code",
   "execution_count": 20,
   "id": "de35b52f",
   "metadata": {
    "scrolled": true
   },
   "outputs": [
    {
     "name": "stdout",
     "output_type": "stream",
     "text": [
      "              City State     Shape        lat        lng   County_\n",
      "29          Hixson    TN     Other  35.236207 -85.298206  Hamilton\n",
      "36    Johnson City    TN  Triangle  36.313440 -82.353473  Sullivan\n",
      "85        Farragut    TN     Light  35.884524 -84.153526      Knox\n",
      "100        Lancing    TN   Diamond  36.120631 -84.653831    Morgan\n",
      "165       Portland    TN     Light  36.581709 -86.516383    Sumner\n",
      "...            ...   ...       ...        ...        ...       ...\n",
      "5061     Nashville    TN     Light  36.162230 -86.774353  Davidson\n",
      "5086       Seymour    TN  Changing  35.881048 -83.776618    Sevier\n",
      "5114     Nashville    TN  Changing  36.162230 -86.774353  Davidson\n",
      "5119      Gallatin    TN  Triangle  36.388303 -86.447590    Sumner\n",
      "5121   Spring Hill    TN     Other  35.751179 -86.930002       NaN\n",
      "\n",
      "[108 rows x 6 columns]\n"
     ]
    },
    {
     "name": "stderr",
     "output_type": "stream",
     "text": [
      "C:\\Users\\pcunn\\AppData\\Local\\Temp\\ipykernel_22592\\2143174601.py:1: SettingWithCopyWarning: \n",
      "A value is trying to be set on a copy of a slice from a DataFrame.\n",
      "Try using .loc[row_indexer,col_indexer] = value instead\n",
      "\n",
      "See the caveats in the documentation: https://pandas.pydata.org/pandas-docs/stable/user_guide/indexing.html#returning-a-view-versus-a-copy\n",
      "  AP_TN.loc[(AP_TN['City']==\"Andersonville\") | (AP_TN['City']==\"Clinton\") | (AP_TN['City']==\"Oak Ridge\"), 'County_'] = 'Anderson'\n"
     ]
    }
   ],
   "source": [
    "AP_TN.loc[(AP_TN['City']==\"Andersonville\") | (AP_TN['City']==\"Clinton\") | (AP_TN['City']==\"Oak Ridge\"), 'County_'] = 'Anderson'\n",
    "AP_TN.loc[(AP_TN['City']==\"Rover\") | (AP_TN['City']==\"Shelbyville\"), 'County_'] = 'Bedford'\n",
    "AP_TN.loc[(AP_TN['City']=='Maryville'), \"County_\"] = 'Blount'\n",
    "AP_TN.loc[(AP_TN['City']=='Charleston') | (AP_TN['City']=='Cleveland'), 'County_' ]= 'Bradley'\n",
    "AP_TN.loc[(AP_TN['City']=='Ivy Bluff'), \"County_\" ]= 'Cannon'\n",
    "AP_TN.loc[(AP_TN['City']=='Huntingdon') | (AP_TN['City']=='Trezevant'), 'County_' ]= 'Carroll'\n",
    "AP_TN.loc[(AP_TN['City']=='Elizabethton'), \"County_\" ]= 'Carter'\n",
    "AP_TN.loc[(AP_TN['City']=='Hendersonville'), \"County_\" ]= 'Chester'\n",
    "AP_TN.loc[(AP_TN['City']=='Harrogate'), \"County_\" ]= 'Claiborne'\n",
    "AP_TN.loc[(AP_TN['City']=='Bybee'), \"County_\" ]= 'Cocke'\n",
    "AP_TN.loc[(AP_TN['City']=='Lake Tansi'), \"County_\" ]= 'Cumberland'\n",
    "AP_TN.loc[(AP_TN['City']==\"Antioch\") | (AP_TN['City']=='Bellevue') | (AP_TN['City']=='Goodlettsville') | (AP_TN['City']=='Hermitage') |(AP_TN['City']=='Nashville'), 'County_'] = 'Davidson'\n",
    "AP_TN.loc[(AP_TN['City']=='Dyersburg') | (AP_TN['City']=='Newbern'), 'County_' ]= 'Dyer'\n",
    "AP_TN.loc[(AP_TN['City']=='Bean Station') | (AP_TN['City']=='Blaine'), 'County_' ]= 'Grainger'\n",
    "AP_TN.loc[(AP_TN['City']=='Lupton City') | (AP_TN['City']=='Hixson'), 'County_' ]= 'Hamilton'\n",
    "AP_TN.loc[(AP_TN['City']=='Rogersville'), \"County_\" ]= 'Hawkins'\n",
    "AP_TN.loc[(AP_TN['City']=='Waverly'), \"County_\" ]= 'Humphreys'\n",
    "AP_TN.loc[(AP_TN['City']=='Farragut') | (AP_TN['City']=='Knoxville'), 'County_' ]= 'Knox'\n",
    "AP_TN.loc[(AP_TN['City']=='Powell'), \"County_\" ]= 'Marion'\n",
    "AP_TN.loc[(AP_TN['City']=='Columbia') | (AP_TN['City']=='Spring hill'), 'County_' ]= 'Maury'\n",
    "AP_TN.loc[(AP_TN['City']=='Ten Mile'), \"County_\" ]= 'Meigs'\n",
    "AP_TN.loc[(AP_TN['City']=='Clarksville'), \"County_\" ]= 'Montgomery'\n",
    "AP_TN.loc[(AP_TN['City']=='Lancing'), \"County_\" ]= 'Morgan'\n",
    "AP_TN.loc[(AP_TN['City']=='Byrdstown'), \"County_\" ]= 'Pickett'\n",
    "AP_TN.loc[(AP_TN['City']=='Dayton') | (AP_TN['City']=='Gray'), 'County_' ]= 'Rhea'\n",
    "AP_TN.loc[(AP_TN['City']=='Murfreesboro') | (AP_TN['City']=='Smyrna'), 'County_' ]= 'Rutherford'\n",
    "AP_TN.loc[(AP_TN['City']=='Mt. Juliet') | (AP_TN['City']=='Lebanon'), 'County_' ]= 'Wilson'\n",
    "AP_TN.loc[(AP_TN['City']=='Gallatin') | (AP_TN['City']=='Portland'), 'County_' ]= 'Sumner'\n",
    "AP_TN.loc[(AP_TN['City']=='White House'), \"County_\" ]= 'Robertson'\n",
    "AP_TN.loc[(AP_TN['City']=='Franklin'), \"County_\" ]= 'Williamson'\n",
    "AP_TN.loc[(AP_TN['City']=='Jonesborough'), \"County_\" ]= 'Washington'\n",
    "AP_TN.loc[(AP_TN['City']=='Morristown'), \"County_\" ]= 'Warren'\n",
    "AP_TN.loc[(AP_TN['City']=='Gordonsville'), \"County_\" ]= 'Smith'\n",
    "AP_TN.loc[(AP_TN['City']=='Eads') | (AP_TN['City']=='Memphis') | (AP_TN['City']==\"Millington\"), 'County_' ]= 'Shelby'\n",
    "AP_TN.loc[(AP_TN['City']=='Kingsport') | (AP_TN['City']=='Johnson City') | (AP_TN['City']=='Bristol') | (AP_TN['City']=='Blountville'), 'County_' ]= 'Sullivan'\n",
    "AP_TN.loc[(AP_TN['City']=='Gatlinburg') | (AP_TN['City']=='Pigeon Forge') | (AP_TN['City']=='Seymour') | (AP_TN['City']=='Great Smoky Mountains National Park'), 'County_']= 'Sevier'\n",
    "\n",
    "\n",
    "print(AP_TN)"
   ]
  },
  {
   "cell_type": "code",
   "execution_count": 21,
   "id": "9e155ea6",
   "metadata": {},
   "outputs": [
    {
     "data": {
      "text/plain": [
       "pandas.core.frame.DataFrame"
      ]
     },
     "execution_count": 21,
     "metadata": {},
     "output_type": "execute_result"
    }
   ],
   "source": [
    "type(AP_TN)"
   ]
  },
  {
   "cell_type": "code",
   "execution_count": 24,
   "id": "e3eb1752",
   "metadata": {},
   "outputs": [
    {
     "data": {
      "text/html": [
       "<div>\n",
       "<style scoped>\n",
       "    .dataframe tbody tr th:only-of-type {\n",
       "        vertical-align: middle;\n",
       "    }\n",
       "\n",
       "    .dataframe tbody tr th {\n",
       "        vertical-align: top;\n",
       "    }\n",
       "\n",
       "    .dataframe thead th {\n",
       "        text-align: right;\n",
       "    }\n",
       "</style>\n",
       "<table border=\"1\" class=\"dataframe\">\n",
       "  <thead>\n",
       "    <tr style=\"text-align: right;\">\n",
       "      <th></th>\n",
       "      <th>City</th>\n",
       "      <th>State</th>\n",
       "      <th>Shape</th>\n",
       "      <th>lat</th>\n",
       "      <th>lng</th>\n",
       "      <th>County_</th>\n",
       "    </tr>\n",
       "  </thead>\n",
       "  <tbody>\n",
       "    <tr>\n",
       "      <th>29</th>\n",
       "      <td>Hixson</td>\n",
       "      <td>TN</td>\n",
       "      <td>Other</td>\n",
       "      <td>35.236207</td>\n",
       "      <td>-85.298206</td>\n",
       "      <td>Hamilton</td>\n",
       "    </tr>\n",
       "  </tbody>\n",
       "</table>\n",
       "</div>"
      ],
      "text/plain": [
       "      City State  Shape        lat        lng   County_\n",
       "29  Hixson    TN  Other  35.236207 -85.298206  Hamilton"
      ]
     },
     "execution_count": 24,
     "metadata": {},
     "output_type": "execute_result"
    }
   ],
   "source": [
    "AP_TN.head(1)"
   ]
  },
  {
   "cell_type": "code",
   "execution_count": 25,
   "id": "f37156aa",
   "metadata": {},
   "outputs": [
    {
     "data": {
      "text/html": [
       "<div>\n",
       "<style scoped>\n",
       "    .dataframe tbody tr th:only-of-type {\n",
       "        vertical-align: middle;\n",
       "    }\n",
       "\n",
       "    .dataframe tbody tr th {\n",
       "        vertical-align: top;\n",
       "    }\n",
       "\n",
       "    .dataframe thead th {\n",
       "        text-align: right;\n",
       "    }\n",
       "</style>\n",
       "<table border=\"1\" class=\"dataframe\">\n",
       "  <thead>\n",
       "    <tr style=\"text-align: right;\">\n",
       "      <th></th>\n",
       "      <th>OBJECTID</th>\n",
       "      <th>NAME</th>\n",
       "      <th>KEY</th>\n",
       "      <th>SHAPE_AREA</th>\n",
       "      <th>SHAPE_LEN</th>\n",
       "      <th>geometry</th>\n",
       "      <th>City</th>\n",
       "      <th>State</th>\n",
       "      <th>Shape</th>\n",
       "      <th>lat</th>\n",
       "      <th>lng</th>\n",
       "      <th>County_</th>\n",
       "    </tr>\n",
       "  </thead>\n",
       "  <tbody>\n",
       "    <tr>\n",
       "      <th>0</th>\n",
       "      <td>76</td>\n",
       "      <td>Chester</td>\n",
       "      <td>47023</td>\n",
       "      <td>8.049024e+09</td>\n",
       "      <td>520461.080124</td>\n",
       "      <td>POLYGON ((1137985.762 344601.643, 1137965.070 ...</td>\n",
       "      <td>Hendersonville</td>\n",
       "      <td>TN</td>\n",
       "      <td>Triangle</td>\n",
       "      <td>36.304774</td>\n",
       "      <td>-86.619996</td>\n",
       "      <td>Chester</td>\n",
       "    </tr>\n",
       "    <tr>\n",
       "      <th>1</th>\n",
       "      <td>79</td>\n",
       "      <td>Hamilton</td>\n",
       "      <td>47065</td>\n",
       "      <td>1.604776e+10</td>\n",
       "      <td>652926.001078</td>\n",
       "      <td>POLYGON ((2274954.438 239788.911, 2274090.610 ...</td>\n",
       "      <td>Hixson</td>\n",
       "      <td>TN</td>\n",
       "      <td>Other</td>\n",
       "      <td>35.236207</td>\n",
       "      <td>-85.298206</td>\n",
       "      <td>Hamilton</td>\n",
       "    </tr>\n",
       "    <tr>\n",
       "      <th>2</th>\n",
       "      <td>79</td>\n",
       "      <td>Hamilton</td>\n",
       "      <td>47065</td>\n",
       "      <td>1.604776e+10</td>\n",
       "      <td>652926.001078</td>\n",
       "      <td>POLYGON ((2274954.438 239788.911, 2274090.610 ...</td>\n",
       "      <td>Lupton City</td>\n",
       "      <td>TN</td>\n",
       "      <td>Circle</td>\n",
       "      <td>35.105713</td>\n",
       "      <td>-85.264264</td>\n",
       "      <td>Hamilton</td>\n",
       "    </tr>\n",
       "    <tr>\n",
       "      <th>3</th>\n",
       "      <td>79</td>\n",
       "      <td>Hamilton</td>\n",
       "      <td>47065</td>\n",
       "      <td>1.604776e+10</td>\n",
       "      <td>652926.001078</td>\n",
       "      <td>POLYGON ((2274954.438 239788.911, 2274090.610 ...</td>\n",
       "      <td>Lupton City</td>\n",
       "      <td>TN</td>\n",
       "      <td>Disk</td>\n",
       "      <td>35.105713</td>\n",
       "      <td>-85.264264</td>\n",
       "      <td>Hamilton</td>\n",
       "    </tr>\n",
       "    <tr>\n",
       "      <th>4</th>\n",
       "      <td>81</td>\n",
       "      <td>Robertson</td>\n",
       "      <td>47147</td>\n",
       "      <td>1.328462e+10</td>\n",
       "      <td>562663.703799</td>\n",
       "      <td>POLYGON ((1638980.637 774369.872, 1639040.173 ...</td>\n",
       "      <td>White House</td>\n",
       "      <td>TN</td>\n",
       "      <td>Fireball</td>\n",
       "      <td>36.470323</td>\n",
       "      <td>-86.651384</td>\n",
       "      <td>Robertson</td>\n",
       "    </tr>\n",
       "  </tbody>\n",
       "</table>\n",
       "</div>"
      ],
      "text/plain": [
       "   OBJECTID       NAME    KEY    SHAPE_AREA      SHAPE_LEN  \\\n",
       "0        76    Chester  47023  8.049024e+09  520461.080124   \n",
       "1        79   Hamilton  47065  1.604776e+10  652926.001078   \n",
       "2        79   Hamilton  47065  1.604776e+10  652926.001078   \n",
       "3        79   Hamilton  47065  1.604776e+10  652926.001078   \n",
       "4        81  Robertson  47147  1.328462e+10  562663.703799   \n",
       "\n",
       "                                            geometry            City State  \\\n",
       "0  POLYGON ((1137985.762 344601.643, 1137965.070 ...  Hendersonville    TN   \n",
       "1  POLYGON ((2274954.438 239788.911, 2274090.610 ...          Hixson    TN   \n",
       "2  POLYGON ((2274954.438 239788.911, 2274090.610 ...     Lupton City    TN   \n",
       "3  POLYGON ((2274954.438 239788.911, 2274090.610 ...     Lupton City    TN   \n",
       "4  POLYGON ((1638980.637 774369.872, 1639040.173 ...     White House    TN   \n",
       "\n",
       "      Shape        lat        lng    County_  \n",
       "0  Triangle  36.304774 -86.619996    Chester  \n",
       "1     Other  35.236207 -85.298206   Hamilton  \n",
       "2    Circle  35.105713 -85.264264   Hamilton  \n",
       "3      Disk  35.105713 -85.264264   Hamilton  \n",
       "4  Fireball  36.470323 -86.651384  Robertson  "
      ]
     },
     "execution_count": 25,
     "metadata": {},
     "output_type": "execute_result"
    }
   ],
   "source": [
    "counties = pd.merge(left = Tenn, right = AP_TN, \n",
    "                    left_on = 'NAME', right_on = 'County_')\n",
    "counties.head()"
   ]
  },
  {
   "cell_type": "code",
   "execution_count": 48,
   "id": "ac093070",
   "metadata": {},
   "outputs": [
    {
     "data": {
      "text/html": [
       "<div>\n",
       "<style scoped>\n",
       "    .dataframe tbody tr th:only-of-type {\n",
       "        vertical-align: middle;\n",
       "    }\n",
       "\n",
       "    .dataframe tbody tr th {\n",
       "        vertical-align: top;\n",
       "    }\n",
       "\n",
       "    .dataframe thead th {\n",
       "        text-align: right;\n",
       "    }\n",
       "</style>\n",
       "<table border=\"1\" class=\"dataframe\">\n",
       "  <thead>\n",
       "    <tr style=\"text-align: right;\">\n",
       "      <th></th>\n",
       "      <th>Shape</th>\n",
       "    </tr>\n",
       "  </thead>\n",
       "  <tbody>\n",
       "    <tr>\n",
       "      <th>Light</th>\n",
       "      <td>23</td>\n",
       "    </tr>\n",
       "    <tr>\n",
       "      <th>Circle</th>\n",
       "      <td>17</td>\n",
       "    </tr>\n",
       "    <tr>\n",
       "      <th>Triangle</th>\n",
       "      <td>14</td>\n",
       "    </tr>\n",
       "    <tr>\n",
       "      <th>Unknown</th>\n",
       "      <td>9</td>\n",
       "    </tr>\n",
       "    <tr>\n",
       "      <th>Fireball</th>\n",
       "      <td>5</td>\n",
       "    </tr>\n",
       "    <tr>\n",
       "      <th>Changing</th>\n",
       "      <td>5</td>\n",
       "    </tr>\n",
       "    <tr>\n",
       "      <th>Formation</th>\n",
       "      <td>4</td>\n",
       "    </tr>\n",
       "    <tr>\n",
       "      <th>Sphere</th>\n",
       "      <td>4</td>\n",
       "    </tr>\n",
       "    <tr>\n",
       "      <th>Diamond</th>\n",
       "      <td>4</td>\n",
       "    </tr>\n",
       "    <tr>\n",
       "      <th>Other</th>\n",
       "      <td>4</td>\n",
       "    </tr>\n",
       "    <tr>\n",
       "      <th>Disk</th>\n",
       "      <td>4</td>\n",
       "    </tr>\n",
       "    <tr>\n",
       "      <th>Rectangle</th>\n",
       "      <td>3</td>\n",
       "    </tr>\n",
       "    <tr>\n",
       "      <th>Oval</th>\n",
       "      <td>3</td>\n",
       "    </tr>\n",
       "    <tr>\n",
       "      <th>Flash</th>\n",
       "      <td>2</td>\n",
       "    </tr>\n",
       "    <tr>\n",
       "      <th>Teardrop</th>\n",
       "      <td>1</td>\n",
       "    </tr>\n",
       "    <tr>\n",
       "      <th>Cigar</th>\n",
       "      <td>1</td>\n",
       "    </tr>\n",
       "    <tr>\n",
       "      <th>Cone</th>\n",
       "      <td>1</td>\n",
       "    </tr>\n",
       "  </tbody>\n",
       "</table>\n",
       "</div>"
      ],
      "text/plain": [
       "           Shape\n",
       "Light         23\n",
       "Circle        17\n",
       "Triangle      14\n",
       "Unknown        9\n",
       "Fireball       5\n",
       "Changing       5\n",
       "Formation      4\n",
       "Sphere         4\n",
       "Diamond        4\n",
       "Other          4\n",
       "Disk           4\n",
       "Rectangle      3\n",
       "Oval           3\n",
       "Flash          2\n",
       "Teardrop       1\n",
       "Cigar          1\n",
       "Cone           1"
      ]
     },
     "execution_count": 48,
     "metadata": {},
     "output_type": "execute_result"
    }
   ],
   "source": [
    "sightings= counties['Shape'].value_counts().to_frame()\n",
    "sightings"
   ]
  },
  {
   "cell_type": "code",
   "execution_count": 49,
   "id": "727c2eda",
   "metadata": {},
   "outputs": [
    {
     "data": {
      "text/html": [
       "<div>\n",
       "<style scoped>\n",
       "    .dataframe tbody tr th:only-of-type {\n",
       "        vertical-align: middle;\n",
       "    }\n",
       "\n",
       "    .dataframe tbody tr th {\n",
       "        vertical-align: top;\n",
       "    }\n",
       "\n",
       "    .dataframe thead th {\n",
       "        text-align: right;\n",
       "    }\n",
       "</style>\n",
       "<table border=\"1\" class=\"dataframe\">\n",
       "  <thead>\n",
       "    <tr style=\"text-align: right;\">\n",
       "      <th></th>\n",
       "      <th>County_</th>\n",
       "    </tr>\n",
       "  </thead>\n",
       "  <tbody>\n",
       "    <tr>\n",
       "      <th>Davidson</th>\n",
       "      <td>15</td>\n",
       "    </tr>\n",
       "    <tr>\n",
       "      <th>Knox</th>\n",
       "      <td>12</td>\n",
       "    </tr>\n",
       "    <tr>\n",
       "      <th>Sullivan</th>\n",
       "      <td>9</td>\n",
       "    </tr>\n",
       "    <tr>\n",
       "      <th>Rutherford</th>\n",
       "      <td>7</td>\n",
       "    </tr>\n",
       "    <tr>\n",
       "      <th>Shelby</th>\n",
       "      <td>6</td>\n",
       "    </tr>\n",
       "    <tr>\n",
       "      <th>Sevier</th>\n",
       "      <td>4</td>\n",
       "    </tr>\n",
       "    <tr>\n",
       "      <th>Wilson</th>\n",
       "      <td>3</td>\n",
       "    </tr>\n",
       "    <tr>\n",
       "      <th>Williamson</th>\n",
       "      <td>3</td>\n",
       "    </tr>\n",
       "    <tr>\n",
       "      <th>Hamilton</th>\n",
       "      <td>3</td>\n",
       "    </tr>\n",
       "    <tr>\n",
       "      <th>Anderson</th>\n",
       "      <td>3</td>\n",
       "    </tr>\n",
       "    <tr>\n",
       "      <th>Rhea</th>\n",
       "      <td>3</td>\n",
       "    </tr>\n",
       "    <tr>\n",
       "      <th>Sumner</th>\n",
       "      <td>3</td>\n",
       "    </tr>\n",
       "    <tr>\n",
       "      <th>Grainger</th>\n",
       "      <td>2</td>\n",
       "    </tr>\n",
       "    <tr>\n",
       "      <th>Bradley</th>\n",
       "      <td>2</td>\n",
       "    </tr>\n",
       "    <tr>\n",
       "      <th>Washington</th>\n",
       "      <td>2</td>\n",
       "    </tr>\n",
       "    <tr>\n",
       "      <th>Carroll</th>\n",
       "      <td>2</td>\n",
       "    </tr>\n",
       "    <tr>\n",
       "      <th>Carter</th>\n",
       "      <td>2</td>\n",
       "    </tr>\n",
       "    <tr>\n",
       "      <th>Robertson</th>\n",
       "      <td>2</td>\n",
       "    </tr>\n",
       "    <tr>\n",
       "      <th>Warren</th>\n",
       "      <td>2</td>\n",
       "    </tr>\n",
       "    <tr>\n",
       "      <th>Bedford</th>\n",
       "      <td>2</td>\n",
       "    </tr>\n",
       "    <tr>\n",
       "      <th>Dyer</th>\n",
       "      <td>2</td>\n",
       "    </tr>\n",
       "    <tr>\n",
       "      <th>Hawkins</th>\n",
       "      <td>1</td>\n",
       "    </tr>\n",
       "    <tr>\n",
       "      <th>Meigs</th>\n",
       "      <td>1</td>\n",
       "    </tr>\n",
       "    <tr>\n",
       "      <th>Claiborne</th>\n",
       "      <td>1</td>\n",
       "    </tr>\n",
       "    <tr>\n",
       "      <th>Pickett</th>\n",
       "      <td>1</td>\n",
       "    </tr>\n",
       "    <tr>\n",
       "      <th>Montgomery</th>\n",
       "      <td>1</td>\n",
       "    </tr>\n",
       "    <tr>\n",
       "      <th>Chester</th>\n",
       "      <td>1</td>\n",
       "    </tr>\n",
       "    <tr>\n",
       "      <th>Maury</th>\n",
       "      <td>1</td>\n",
       "    </tr>\n",
       "    <tr>\n",
       "      <th>Blount</th>\n",
       "      <td>1</td>\n",
       "    </tr>\n",
       "    <tr>\n",
       "      <th>Cannon</th>\n",
       "      <td>1</td>\n",
       "    </tr>\n",
       "    <tr>\n",
       "      <th>Cumberland</th>\n",
       "      <td>1</td>\n",
       "    </tr>\n",
       "    <tr>\n",
       "      <th>Cocke</th>\n",
       "      <td>1</td>\n",
       "    </tr>\n",
       "    <tr>\n",
       "      <th>Humphreys</th>\n",
       "      <td>1</td>\n",
       "    </tr>\n",
       "    <tr>\n",
       "      <th>Morgan</th>\n",
       "      <td>1</td>\n",
       "    </tr>\n",
       "    <tr>\n",
       "      <th>Smith</th>\n",
       "      <td>1</td>\n",
       "    </tr>\n",
       "    <tr>\n",
       "      <th>Marion</th>\n",
       "      <td>1</td>\n",
       "    </tr>\n",
       "  </tbody>\n",
       "</table>\n",
       "</div>"
      ],
      "text/plain": [
       "            County_\n",
       "Davidson         15\n",
       "Knox             12\n",
       "Sullivan          9\n",
       "Rutherford        7\n",
       "Shelby            6\n",
       "Sevier            4\n",
       "Wilson            3\n",
       "Williamson        3\n",
       "Hamilton          3\n",
       "Anderson          3\n",
       "Rhea              3\n",
       "Sumner            3\n",
       "Grainger          2\n",
       "Bradley           2\n",
       "Washington        2\n",
       "Carroll           2\n",
       "Carter            2\n",
       "Robertson         2\n",
       "Warren            2\n",
       "Bedford           2\n",
       "Dyer              2\n",
       "Hawkins           1\n",
       "Meigs             1\n",
       "Claiborne         1\n",
       "Pickett           1\n",
       "Montgomery        1\n",
       "Chester           1\n",
       "Maury             1\n",
       "Blount            1\n",
       "Cannon            1\n",
       "Cumberland        1\n",
       "Cocke             1\n",
       "Humphreys         1\n",
       "Morgan            1\n",
       "Smith             1\n",
       "Marion            1"
      ]
     },
     "execution_count": 49,
     "metadata": {},
     "output_type": "execute_result"
    }
   ],
   "source": [
    "I_want_to_believe=counties['County_'].value_counts().to_frame()\n",
    "I_want_to_believe"
   ]
  },
  {
   "cell_type": "code",
   "execution_count": 60,
   "id": "aaea5e6d",
   "metadata": {},
   "outputs": [
    {
     "name": "stderr",
     "output_type": "stream",
     "text": [
      "C:\\Users\\pcunn\\AppData\\Local\\Temp\\ipykernel_22592\\28901012.py:1: FutureWarning: The frame.append method is deprecated and will be removed from pandas in a future version. Use pandas.concat instead.\n",
      "  unknown=counties.append(sightings, ignore_index=True)\n"
     ]
    }
   ],
   "source": [
    "unknown=counties.append(sightings, ignore_index=True)"
   ]
  },
  {
   "cell_type": "code",
   "execution_count": 61,
   "id": "19f46d78",
   "metadata": {},
   "outputs": [
    {
     "name": "stderr",
     "output_type": "stream",
     "text": [
      "C:\\Users\\pcunn\\AppData\\Local\\Temp\\ipykernel_22592\\4009830676.py:1: FutureWarning: The frame.append method is deprecated and will be removed from pandas in a future version. Use pandas.concat instead.\n",
      "  x_file = unknown.append(I_want_to_believe, ignore_index=False)\n"
     ]
    }
   ],
   "source": [
    "x_file = unknown.append(I_want_to_believe, ignore_index=False)"
   ]
  },
  {
   "cell_type": "code",
   "execution_count": 62,
   "id": "730f19bc",
   "metadata": {},
   "outputs": [
    {
     "data": {
      "text/plain": [
       "geopandas.geodataframe.GeoDataFrame"
      ]
     },
     "execution_count": 62,
     "metadata": {},
     "output_type": "execute_result"
    }
   ],
   "source": [
    "type(x_file)"
   ]
  },
  {
   "cell_type": "code",
   "execution_count": 64,
   "id": "ac72f6d5",
   "metadata": {},
   "outputs": [
    {
     "data": {
      "text/html": [
       "<div>\n",
       "<style scoped>\n",
       "    .dataframe tbody tr th:only-of-type {\n",
       "        vertical-align: middle;\n",
       "    }\n",
       "\n",
       "    .dataframe tbody tr th {\n",
       "        vertical-align: top;\n",
       "    }\n",
       "\n",
       "    .dataframe thead th {\n",
       "        text-align: right;\n",
       "    }\n",
       "</style>\n",
       "<table border=\"1\" class=\"dataframe\">\n",
       "  <thead>\n",
       "    <tr style=\"text-align: right;\">\n",
       "      <th></th>\n",
       "      <th>OBJECTID</th>\n",
       "      <th>NAME</th>\n",
       "      <th>KEY</th>\n",
       "      <th>SHAPE_AREA</th>\n",
       "      <th>SHAPE_LEN</th>\n",
       "      <th>geometry</th>\n",
       "      <th>City</th>\n",
       "      <th>State</th>\n",
       "      <th>Shape</th>\n",
       "      <th>lat</th>\n",
       "      <th>lng</th>\n",
       "      <th>County_</th>\n",
       "    </tr>\n",
       "  </thead>\n",
       "  <tbody>\n",
       "    <tr>\n",
       "      <th>0</th>\n",
       "      <td>76.0</td>\n",
       "      <td>Chester</td>\n",
       "      <td>47023</td>\n",
       "      <td>8.049024e+09</td>\n",
       "      <td>520461.080124</td>\n",
       "      <td>POLYGON ((1137985.762 344601.643, 1137965.070 ...</td>\n",
       "      <td>Hendersonville</td>\n",
       "      <td>TN</td>\n",
       "      <td>Triangle</td>\n",
       "      <td>36.304774</td>\n",
       "      <td>-86.619996</td>\n",
       "      <td>Chester</td>\n",
       "    </tr>\n",
       "  </tbody>\n",
       "</table>\n",
       "</div>"
      ],
      "text/plain": [
       "   OBJECTID     NAME    KEY    SHAPE_AREA      SHAPE_LEN  \\\n",
       "0      76.0  Chester  47023  8.049024e+09  520461.080124   \n",
       "\n",
       "                                            geometry            City State  \\\n",
       "0  POLYGON ((1137985.762 344601.643, 1137965.070 ...  Hendersonville    TN   \n",
       "\n",
       "      Shape        lat        lng  County_  \n",
       "0  Triangle  36.304774 -86.619996  Chester  "
      ]
     },
     "execution_count": 64,
     "metadata": {},
     "output_type": "execute_result"
    }
   ],
   "source": [
    "x_file.head(1)"
   ]
  },
  {
   "cell_type": "code",
   "execution_count": 71,
   "id": "fcd6bb1f",
   "metadata": {},
   "outputs": [
    {
     "ename": "ValueError",
     "evalue": "Unrecognized location 'center bottom'. Valid locations are\n\tbest\n\tupper right\n\tupper left\n\tlower left\n\tlower right\n\tright\n\tcenter left\n\tcenter right\n\tlower center\n\tupper center\n\tcenter\n",
     "output_type": "error",
     "traceback": [
      "\u001b[1;31m---------------------------------------------------------------------------\u001b[0m",
      "\u001b[1;31mValueError\u001b[0m                                Traceback (most recent call last)",
      "Input \u001b[1;32mIn [71]\u001b[0m, in \u001b[0;36m<cell line: 2>\u001b[1;34m()\u001b[0m\n\u001b[0;32m      1\u001b[0m fig, ax \u001b[38;5;241m=\u001b[39m plt\u001b[38;5;241m.\u001b[39msubplots(figsize\u001b[38;5;241m=\u001b[39m(\u001b[38;5;241m16\u001b[39m,\u001b[38;5;241m4\u001b[39m))\n\u001b[1;32m----> 2\u001b[0m \u001b[43mx_file\u001b[49m\u001b[38;5;241;43m.\u001b[39;49m\u001b[43mplot\u001b[49m\u001b[43m(\u001b[49m\u001b[43mcolumn\u001b[49m\u001b[43m \u001b[49m\u001b[38;5;241;43m=\u001b[39;49m\u001b[43m \u001b[49m\u001b[38;5;124;43m'\u001b[39;49m\u001b[38;5;124;43mCounty_\u001b[39;49m\u001b[38;5;124;43m'\u001b[39;49m\u001b[43m,\u001b[49m\u001b[43m \u001b[49m\n\u001b[0;32m      3\u001b[0m \u001b[43m            \u001b[49m\u001b[43mlegend\u001b[49m\u001b[43m \u001b[49m\u001b[38;5;241;43m=\u001b[39;49m\u001b[43m \u001b[49m\u001b[38;5;28;43;01mTrue\u001b[39;49;00m\u001b[43m,\u001b[49m\n\u001b[0;32m      4\u001b[0m \u001b[43m            \u001b[49m\u001b[43mlegend_kwds\u001b[49m\u001b[38;5;241;43m=\u001b[39;49m\u001b[43m{\u001b[49m\u001b[38;5;124;43m'\u001b[39;49m\u001b[38;5;124;43mloc\u001b[39;49m\u001b[38;5;124;43m'\u001b[39;49m\u001b[43m:\u001b[49m\u001b[43m \u001b[49m\u001b[38;5;124;43m'\u001b[39;49m\u001b[38;5;124;43mcenter bottom\u001b[39;49m\u001b[38;5;124;43m'\u001b[39;49m\u001b[43m}\u001b[49m\u001b[43m,\u001b[49m\n\u001b[0;32m      5\u001b[0m \u001b[43m              \u001b[49m\u001b[43max\u001b[49m\u001b[43m \u001b[49m\u001b[38;5;241;43m=\u001b[39;49m\u001b[43m \u001b[49m\u001b[43max\u001b[49m\u001b[43m)\u001b[49m\n\u001b[0;32m      6\u001b[0m ax\u001b[38;5;241m.\u001b[39maxis(\u001b[38;5;124m'\u001b[39m\u001b[38;5;124moff\u001b[39m\u001b[38;5;124m'\u001b[39m)\n",
      "File \u001b[1;32m~\\anaconda3\\envs\\geospatial\\lib\\site-packages\\geopandas\\geodataframe.py:921\u001b[0m, in \u001b[0;36mGeoDataFrame.plot\u001b[1;34m(self, *args, **kwargs)\u001b[0m\n\u001b[0;32m    911\u001b[0m \u001b[38;5;28;01mdef\u001b[39;00m \u001b[38;5;21mplot\u001b[39m(\u001b[38;5;28mself\u001b[39m, \u001b[38;5;241m*\u001b[39margs, \u001b[38;5;241m*\u001b[39m\u001b[38;5;241m*\u001b[39mkwargs):\n\u001b[0;32m    912\u001b[0m     \u001b[38;5;124;03m\"\"\"Generate a plot of the geometries in the ``GeoDataFrame``.\u001b[39;00m\n\u001b[0;32m    913\u001b[0m \n\u001b[0;32m    914\u001b[0m \u001b[38;5;124;03m    If the ``column`` parameter is given, colors plot according to values\u001b[39;00m\n\u001b[1;32m   (...)\u001b[0m\n\u001b[0;32m    919\u001b[0m \u001b[38;5;124;03m    from there.\u001b[39;00m\n\u001b[0;32m    920\u001b[0m \u001b[38;5;124;03m    \"\"\"\u001b[39;00m\n\u001b[1;32m--> 921\u001b[0m     \u001b[38;5;28;01mreturn\u001b[39;00m \u001b[43mplot_dataframe\u001b[49m\u001b[43m(\u001b[49m\u001b[38;5;28;43mself\u001b[39;49m\u001b[43m,\u001b[49m\u001b[43m \u001b[49m\u001b[38;5;241;43m*\u001b[39;49m\u001b[43margs\u001b[49m\u001b[43m,\u001b[49m\u001b[43m \u001b[49m\u001b[38;5;241;43m*\u001b[39;49m\u001b[38;5;241;43m*\u001b[39;49m\u001b[43mkwargs\u001b[49m\u001b[43m)\u001b[49m\n",
      "File \u001b[1;32m~\\anaconda3\\envs\\geospatial\\lib\\site-packages\\geopandas\\plotting.py:813\u001b[0m, in \u001b[0;36mplot_dataframe\u001b[1;34m(df, column, cmap, color, ax, cax, categorical, legend, scheme, k, vmin, vmax, markersize, figsize, legend_kwds, categories, classification_kwds, missing_kwds, aspect, **style_kwds)\u001b[0m\n\u001b[0;32m    811\u001b[0m     legend_kwds\u001b[38;5;241m.\u001b[39msetdefault(\u001b[38;5;124m\"\u001b[39m\u001b[38;5;124mnumpoints\u001b[39m\u001b[38;5;124m\"\u001b[39m, \u001b[38;5;241m1\u001b[39m)\n\u001b[0;32m    812\u001b[0m     legend_kwds\u001b[38;5;241m.\u001b[39msetdefault(\u001b[38;5;124m\"\u001b[39m\u001b[38;5;124mloc\u001b[39m\u001b[38;5;124m\"\u001b[39m, \u001b[38;5;124m\"\u001b[39m\u001b[38;5;124mbest\u001b[39m\u001b[38;5;124m\"\u001b[39m)\n\u001b[1;32m--> 813\u001b[0m     \u001b[43max\u001b[49m\u001b[38;5;241;43m.\u001b[39;49m\u001b[43mlegend\u001b[49m\u001b[43m(\u001b[49m\u001b[43mpatches\u001b[49m\u001b[43m,\u001b[49m\u001b[43m \u001b[49m\u001b[43mcategories\u001b[49m\u001b[43m,\u001b[49m\u001b[43m \u001b[49m\u001b[38;5;241;43m*\u001b[39;49m\u001b[38;5;241;43m*\u001b[39;49m\u001b[43mlegend_kwds\u001b[49m\u001b[43m)\u001b[49m\n\u001b[0;32m    814\u001b[0m \u001b[38;5;28;01melse\u001b[39;00m:\n\u001b[0;32m    816\u001b[0m     \u001b[38;5;28;01mif\u001b[39;00m cax \u001b[38;5;129;01mis\u001b[39;00m \u001b[38;5;129;01mnot\u001b[39;00m \u001b[38;5;28;01mNone\u001b[39;00m:\n",
      "File \u001b[1;32m~\\anaconda3\\envs\\geospatial\\lib\\site-packages\\matplotlib\\axes\\_axes.py:417\u001b[0m, in \u001b[0;36mAxes.legend\u001b[1;34m(self, *args, **kwargs)\u001b[0m\n\u001b[0;32m    415\u001b[0m \u001b[38;5;28;01mif\u001b[39;00m \u001b[38;5;28mlen\u001b[39m(extra_args):\n\u001b[0;32m    416\u001b[0m     \u001b[38;5;28;01mraise\u001b[39;00m \u001b[38;5;167;01mTypeError\u001b[39;00m(\u001b[38;5;124m'\u001b[39m\u001b[38;5;124mlegend only accepts two non-keyword arguments\u001b[39m\u001b[38;5;124m'\u001b[39m)\n\u001b[1;32m--> 417\u001b[0m \u001b[38;5;28mself\u001b[39m\u001b[38;5;241m.\u001b[39mlegend_ \u001b[38;5;241m=\u001b[39m \u001b[43mmlegend\u001b[49m\u001b[38;5;241;43m.\u001b[39;49m\u001b[43mLegend\u001b[49m\u001b[43m(\u001b[49m\u001b[38;5;28;43mself\u001b[39;49m\u001b[43m,\u001b[49m\u001b[43m \u001b[49m\u001b[43mhandles\u001b[49m\u001b[43m,\u001b[49m\u001b[43m \u001b[49m\u001b[43mlabels\u001b[49m\u001b[43m,\u001b[49m\u001b[43m \u001b[49m\u001b[38;5;241;43m*\u001b[39;49m\u001b[38;5;241;43m*\u001b[39;49m\u001b[43mkwargs\u001b[49m\u001b[43m)\u001b[49m\n\u001b[0;32m    418\u001b[0m \u001b[38;5;28mself\u001b[39m\u001b[38;5;241m.\u001b[39mlegend_\u001b[38;5;241m.\u001b[39m_remove_method \u001b[38;5;241m=\u001b[39m \u001b[38;5;28mself\u001b[39m\u001b[38;5;241m.\u001b[39m_remove_legend\n\u001b[0;32m    419\u001b[0m \u001b[38;5;28;01mreturn\u001b[39;00m \u001b[38;5;28mself\u001b[39m\u001b[38;5;241m.\u001b[39mlegend_\n",
      "File \u001b[1;32m~\\anaconda3\\envs\\geospatial\\lib\\site-packages\\matplotlib\\legend.py:455\u001b[0m, in \u001b[0;36mLegend.__init__\u001b[1;34m(self, parent, handles, labels, loc, numpoints, markerscale, markerfirst, scatterpoints, scatteryoffsets, prop, fontsize, labelcolor, borderpad, labelspacing, handlelength, handleheight, handletextpad, borderaxespad, columnspacing, ncol, mode, fancybox, shadow, title, title_fontsize, framealpha, edgecolor, facecolor, bbox_to_anchor, bbox_transform, frameon, handler_map)\u001b[0m\n\u001b[0;32m    453\u001b[0m \u001b[38;5;28;01mif\u001b[39;00m \u001b[38;5;28misinstance\u001b[39m(loc, \u001b[38;5;28mstr\u001b[39m):\n\u001b[0;32m    454\u001b[0m     \u001b[38;5;28;01mif\u001b[39;00m loc \u001b[38;5;129;01mnot\u001b[39;00m \u001b[38;5;129;01min\u001b[39;00m \u001b[38;5;28mself\u001b[39m\u001b[38;5;241m.\u001b[39mcodes:\n\u001b[1;32m--> 455\u001b[0m         \u001b[38;5;28;01mraise\u001b[39;00m \u001b[38;5;167;01mValueError\u001b[39;00m(\n\u001b[0;32m    456\u001b[0m             \u001b[38;5;124m\"\u001b[39m\u001b[38;5;124mUnrecognized location \u001b[39m\u001b[38;5;132;01m{!r}\u001b[39;00m\u001b[38;5;124m. Valid locations are\u001b[39m\u001b[38;5;130;01m\\n\u001b[39;00m\u001b[38;5;130;01m\\t\u001b[39;00m\u001b[38;5;132;01m{}\u001b[39;00m\u001b[38;5;130;01m\\n\u001b[39;00m\u001b[38;5;124m\"\u001b[39m\n\u001b[0;32m    457\u001b[0m             \u001b[38;5;241m.\u001b[39mformat(loc, \u001b[38;5;124m'\u001b[39m\u001b[38;5;130;01m\\n\u001b[39;00m\u001b[38;5;130;01m\\t\u001b[39;00m\u001b[38;5;124m'\u001b[39m\u001b[38;5;241m.\u001b[39mjoin(\u001b[38;5;28mself\u001b[39m\u001b[38;5;241m.\u001b[39mcodes)))\n\u001b[0;32m    458\u001b[0m     \u001b[38;5;28;01melse\u001b[39;00m:\n\u001b[0;32m    459\u001b[0m         loc \u001b[38;5;241m=\u001b[39m \u001b[38;5;28mself\u001b[39m\u001b[38;5;241m.\u001b[39mcodes[loc]\n",
      "\u001b[1;31mValueError\u001b[0m: Unrecognized location 'center bottom'. Valid locations are\n\tbest\n\tupper right\n\tupper left\n\tlower left\n\tlower right\n\tright\n\tcenter left\n\tcenter right\n\tlower center\n\tupper center\n\tcenter\n"
     ]
    },
    {
     "data": {
      "image/png": "[encoded data removed]",
      "text/plain": [
       "<Figure size 1152x288 with 1 Axes>"
      ]
     },
     "metadata": {
      "needs_background": "light"
     },
     "output_type": "display_data"
    }
   ],
   "source": [
    "fig, ax = plt.subplots(figsize=(16,4))\n",
    "x_file.plot(column = 'County_', \n",
    "            legend = True,\n",
    "            legend_kwds={'loc': 'center bottom'},\n",
    "              ax = ax)\n",
    "ax.axis('off');"
   ]
  },
  {
   "cell_type": "code",
   "execution_count": 68,
   "id": "d3dde389",
   "metadata": {},
   "outputs": [
    {
     "data": {
      "image/png": "[encoded data removed]",
      "text/plain": [
       "<Figure size 1152x288 with 1 Axes>"
      ]
     },
     "metadata": {
      "needs_background": "light"
     },
     "output_type": "display_data"
    }
   ],
   "source": [
    "fig, ax = plt.subplots(figsize=(16,4))\n",
    "counties.plot(column = 'Shape', \n",
    "              cmap = 'PiYG', \n",
    "              legend=True,\n",
    "              edgecolor = 'black', \n",
    "              ax = ax)\n",
    "ax.axis('off');"
   ]
  },
  {
   "cell_type": "code",
   "execution_count": null,
   "id": "88a02473",
   "metadata": {},
   "outputs": [],
   "source": [
    "sightings.info()"
   ]
  },
  {
   "cell_type": "code",
   "execution_count": null,
   "id": "5fe07b80",
   "metadata": {},
   "outputs": [],
   "source": [
    "counties = gpd.sjoin(sightings, Tenn, op = 'within')\n",
    "counties.head()"
   ]
  },
  {
   "cell_type": "code",
   "execution_count": null,
   "id": "7070dc2a",
   "metadata": {},
   "outputs": [],
   "source": [
    "type(counties)"
   ]
  },
  {
   "cell_type": "code",
   "execution_count": null,
   "id": "b0b6a56d",
   "metadata": {},
   "outputs": [],
   "source": [
    "counties.rename(columns= {\"NAME\": \"County\", \"geometry_x\": \"Polygon\", \"geometry_y\": \"Point\", \"Shape_y\": \"Appearance\"}).head(1)"
   ]
  },
  {
   "cell_type": "code",
   "execution_count": null,
   "id": "2a442da9",
   "metadata": {},
   "outputs": [],
   "source": [
    "del counties[\"OBJECTID\"]\n",
    "del counties['KEY']\n",
    "del counties['City']\n",
    "#del counties['State_x']\n",
    "#del counties['Shape_x']\n",
    "del counties['lat_x']\n",
    "del counties['lng_x']\n",
    "counties['County_'].value_counts()"
   ]
  },
  {
   "cell_type": "code",
   "execution_count": null,
   "id": "1bfb2ca0",
   "metadata": {},
   "outputs": [],
   "source": [
    "print(counties.head(1))"
   ]
  },
  {
   "cell_type": "code",
   "execution_count": null,
   "id": "d076c086",
   "metadata": {},
   "outputs": [],
   "source": [
    "Triangles= sightings.loc[sightings['Shape']== 'Triangle']\n",
    "Triangles.shape"
   ]
  },
  {
   "cell_type": "code",
   "execution_count": null,
   "id": "9f5ab9fa",
   "metadata": {},
   "outputs": [],
   "source": [
    "Polygon=Tenn.loc[Tenn['NAME']== Tenn['NAME']]\n",
    "Polygon.shape"
   ]
  },
  {
   "cell_type": "code",
   "execution_count": null,
   "id": "2fbda10a",
   "metadata": {},
   "outputs": [],
   "source": [
    "counties.head(1)\n",
    "counties.rename(columns={'geometry_y': 'geometry'})"
   ]
  },
  {
   "cell_type": "code",
   "execution_count": null,
   "id": "e3564256",
   "metadata": {},
   "outputs": [],
   "source": [
    "ax = Polygon.plot(figsize = (18, 10), color = 'gray')\n",
    "Triangles.plot( ax = ax, column ='County_');\n",
    "plt.show();\n",
    "#Triangles.info()"
   ]
  },
  {
   "cell_type": "code",
   "execution_count": null,
   "id": "0f120f12",
   "metadata": {},
   "outputs": [],
   "source": [
    "counties.info()"
   ]
  },
  {
   "cell_type": "code",
   "execution_count": null,
   "id": "739c05a5",
   "metadata": {},
   "outputs": [],
   "source": [
    "follow_the_stars = folium.Map(location =  Polygon, zoom_start = 12)\n",
    "\n",
    "folium.GeoJson(Triangles).add_to(follow_the_stars)\n",
    "#iterate through stops_in_37207 to create locations and markers \n",
    "#for each bus stop\n",
    "#remember for Folium locations, lat is listed first!!\n",
    "\n",
    "for row_index, row_values in counties.iterrows():\n",
    "    loc = [row_values['lat'], row_values['lng']]\n",
    "    pop = str(row_values['County_'])\n",
    "    icon=folium.Icon(color=\"black\",icon=\"rocket\", prefix='fa')\n",
    "    \n",
    "    marker = folium.Marker(\n",
    "        location = loc, \n",
    "        popup = pop, icon = icon) \n",
    "\n",
    "    marker.add_to(follow_the_stars)\n",
    "\n",
    "\n",
    "#display our map\n",
    "follow_the_stars"
   ]
  },
  {
   "cell_type": "code",
   "execution_count": null,
   "id": "20f1fb27",
   "metadata": {},
   "outputs": [],
   "source": []
  },
  {
   "cell_type": "code",
   "execution_count": null,
   "id": "f0b54b29",
   "metadata": {},
   "outputs": [],
   "source": []
  }
 ],
 "metadata": {
  "kernelspec": {
   "display_name": "Python 3 (ipykernel)",
   "language": "python",
   "name": "python3"
  },
  "language_info": {
   "codemirror_mode": {
    "name": "ipython",
    "version": 3
   },
   "file_extension": ".py",
   "mimetype": "text/x-python",
   "name": "python",
   "nbconvert_exporter": "python",
   "pygments_lexer": "ipython3",
   "version": "3.8.5"
  }
 },
 "nbformat": 4,
 "nbformat_minor": 5
}
